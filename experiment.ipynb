{
 "cells": [
  {
   "cell_type": "code",
   "execution_count": 2,
   "metadata": {},
   "outputs": [],
   "source": [
    "import requests, json\n",
    "from stunting_backend.secrets import MAP_API_KEY as API_KEY"
   ]
  },
  {
   "cell_type": "code",
   "execution_count": 3,
   "metadata": {},
   "outputs": [],
   "source": [
    "FIND_PLACE_API = 'https://maps.googleapis.com/maps/api/place/findplacefromtext/json'\n",
    "PLACE_DETAIL_API = 'https://maps.googleapis.com/maps/api/place/details/json'\n",
    "SEARCH_PLACE_API = 'https://maps.googleapis.com/maps/api/place/textsearch/json'\n",
    "NEARBY_PLACE_API = 'https://maps.googleapis.com/maps/api/place/nearbysearch/json'"
   ]
  },
  {
   "cell_type": "markdown",
   "metadata": {},
   "source": [
    "# Where am i"
   ]
  },
  {
   "cell_type": "code",
   "execution_count": 4,
   "metadata": {},
   "outputs": [
    {
     "data": {
      "text/plain": [
       "'\\n            \"geometry\": {\\n                \"location\": {\\n                    \"lat\": -6.500744,\\n                    \"lng\": 106.7874093\\n                },\\n                \"viewport\": {\\n                    \"northeast\": {\\n                        \"lat\": -6.499292170107279,\\n                        \"lng\": 106.7886889798927\\n                    },\\n                    \"southwest\": {\\n                        \"lat\": -6.501991829892723,\\n                        \"lng\": 106.7859893201073\\n                    }\\n                }\\n            }\\n'"
      ]
     },
     "execution_count": 4,
     "metadata": {},
     "output_type": "execute_result"
    }
   ],
   "source": [
    "\"\"\"\n",
    "            \"geometry\": {\n",
    "                \"location\": {\n",
    "                    \"lat\": -6.500744,\n",
    "                    \"lng\": 106.7874093\n",
    "                },\n",
    "                \"viewport\": {\n",
    "                    \"northeast\": {\n",
    "                        \"lat\": -6.499292170107279,\n",
    "                        \"lng\": 106.7886889798927\n",
    "                    },\n",
    "                    \"southwest\": {\n",
    "                        \"lat\": -6.501991829892723,\n",
    "                        \"lng\": 106.7859893201073\n",
    "                    }\n",
    "                }\n",
    "            }\n",
    "\"\"\""
   ]
  },
  {
   "cell_type": "markdown",
   "metadata": {},
   "source": [
    "# Nearby Places"
   ]
  },
  {
   "cell_type": "code",
   "execution_count": 6,
   "metadata": {},
   "outputs": [],
   "source": [
    "find_place_parameters = {\n",
    "    'key': API_KEY,\n",
    "    'location': '-6.500744,106.7874093',\n",
    "    'keyword': 'Bojonggede',\n",
    "    'radius': 5000,\n",
    "    'types': '|'.join('doctor pharmacy hospital health'.split())\n",
    "}\n",
    "place_ids = json.loads(requests.get(NEARBY_PLACE_API, params=find_place_parameters).text)\n",
    "# place_ids = requests.get(f\"https://maps.googleapis.com/maps/api/place/nearbysearch/json?location=-33.8670522%2C151.1957362&radius=1500&type=restaurant&keyword=cruise&key={API_KEY}\").text\n",
    "\n",
    "# all_place_details = []\n",
    "# for candidate in place_ids['results']:\n",
    "#     place_detail_parameters = {\n",
    "#         'key': API_KEY,\n",
    "#         'place_id': candidate['place_id']\n",
    "#     }\n",
    "#     all_place_details.append(json.loads(requests.get(PLACE_DETAIL_API, params=place_detail_parameters).text))\n",
    "\n",
    "with open('experiment.json', 'w+') as exp_fd:\n",
    "    exp_fd.write(json.dumps(place_ids, indent=4, sort_keys=True))\n",
    "\n"
   ]
  },
  {
   "cell_type": "code",
   "execution_count": null,
   "metadata": {},
   "outputs": [],
   "source": []
  }
 ],
 "metadata": {
  "interpreter": {
   "hash": "65ec4744806de1390d6de3f6640834336399387f3eec292c09bce9e300c1896d"
  },
  "kernelspec": {
   "display_name": "Python 3.9.7 64-bit ('anaconda3')",
   "language": "python",
   "name": "python3"
  },
  "language_info": {
   "codemirror_mode": {
    "name": "ipython",
    "version": 3
   },
   "file_extension": ".py",
   "mimetype": "text/x-python",
   "name": "python",
   "nbconvert_exporter": "python",
   "pygments_lexer": "ipython3",
   "version": "3.9.7"
  },
  "orig_nbformat": 4
 },
 "nbformat": 4,
 "nbformat_minor": 2
}
