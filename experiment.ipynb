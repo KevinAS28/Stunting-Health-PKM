{
 "cells": [
  {
   "cell_type": "code",
   "execution_count": 2,
   "metadata": {},
   "outputs": [],
   "source": [
    "import requests, json\n",
    "from stunting_backend.secrets import MAP_API_KEY as API_KEY"
   ]
  },
  {
   "cell_type": "code",
   "execution_count": 3,
   "metadata": {},
   "outputs": [],
   "source": [
    "FIND_PLACE_API = 'https://maps.googleapis.com/maps/api/place/findplacefromtext/json'\n",
    "PLACE_DETAIL_API = 'https://maps.googleapis.com/maps/api/place/details/json'\n",
    "SEARCH_PLACE_API = 'https://maps.googleapis.com/maps/api/place/textsearch/json'\n",
    "NEARBY_PLACE_API = 'https://maps.googleapis.com/maps/api/place/nearbysearch/json'"
   ]
  },
  {
   "cell_type": "markdown",
   "metadata": {},
   "source": [
    "# Where am i"
   ]
  },
  {
   "cell_type": "code",
   "execution_count": 4,
   "metadata": {},
   "outputs": [
    {
     "data": {
      "text/plain": [
       "'\\n            \"geometry\": {\\n                \"location\": {\\n                    \"lat\": -6.500744,\\n                    \"lng\": 106.7874093\\n                },\\n                \"viewport\": {\\n                    \"northeast\": {\\n                        \"lat\": -6.499292170107279,\\n                        \"lng\": 106.7886889798927\\n                    },\\n                    \"southwest\": {\\n                        \"lat\": -6.501991829892723,\\n                        \"lng\": 106.7859893201073\\n                    }\\n                }\\n            }\\n'"
      ]
     },
     "execution_count": 4,
     "metadata": {},
     "output_type": "execute_result"
    }
   ],
   "source": [
    "\"\"\"\n",
    "            \"geometry\": {\n",
    "                \"location\": {\n",
    "                    \"lat\": -6.500744,\n",
    "                    \"lng\": 106.7874093\n",
    "                },\n",
    "                \"viewport\": {\n",
    "                    \"northeast\": {\n",
    "                        \"lat\": -6.499292170107279,\n",
    "                        \"lng\": 106.7886889798927\n",
    "                    },\n",
    "                    \"southwest\": {\n",
    "                        \"lat\": -6.501991829892723,\n",
    "                        \"lng\": 106.7859893201073\n",
    "                    }\n",
    "                }\n",
    "            }\n",
    "\"\"\""
   ]
  },
  {
   "cell_type": "markdown",
   "metadata": {},
   "source": [
    "# Nearby Places"
   ]
  },
  {
   "cell_type": "code",
   "execution_count": 7,
   "metadata": {},
   "outputs": [],
   "source": [
    "find_place_parameters = {\n",
    "    'key': API_KEY,\n",
    "    'location': '-6.500744,106.7874093',\n",
    "    'keyword': 'Bojonggede',\n",
    "    'radius': 5000,\n",
    "    'types': '|'.join('doctor pharmacy hospital health'.split())\n",
    "}\n",
    "place_ids = json.loads(requests.get(NEARBY_PLACE_API, params=find_place_parameters).text)\n",
    "# place_ids = requests.get(f\"https://maps.googleapis.com/maps/api/place/nearbysearch/json?location=-33.8670522%2C151.1957362&radius=1500&type=restaurant&keyword=cruise&key={API_KEY}\").text\n",
    "\n",
    "# all_place_details = []\n",
    "# for candidate in place_ids['results']:\n",
    "#     place_detail_parameters = {\n",
    "#         'key': API_KEY,\n",
    "#         'place_id': candidate['place_id']\n",
    "#     }\n",
    "#     all_place_details.append(json.loads(requests.get(PLACE_DETAIL_API, params=place_detail_parameters).text))\n",
    "\n",
    "with open('experiment.json', 'w+') as exp_fd:\n",
    "    exp_fd.write(json.dumps(place_ids, indent=4, sort_keys=True))\n",
    "\n"
   ]
  },
  {
   "cell_type": "code",
   "execution_count": 16,
   "metadata": {},
   "outputs": [
    {
     "name": "stdout",
     "output_type": "stream",
     "text": [
      "32 {{IMG0}} ('{{IMG0}}', 'IMG0')\n",
      "54 {{IMG1}} ('{{IMG1}}', 'IMG1')\n"
     ]
    }
   ],
   "source": [
    "import re\n",
    "\n",
    "text = '''\n",
    "<title>hello</title>\n",
    "<img src='{{IMG0}}'/>\n",
    "<img src='{{IMG1}}'/>\n",
    "'''\n",
    "\n",
    "p = re.compile(r'({{([a-z|A-Z|0-9]+)}})')\n",
    "for m in p.finditer(text):\n",
    "    print(m.start(), m.group(), m.groups())\n",
    "\n",
    "\n"
   ]
  },
  {
   "cell_type": "code",
   "execution_count": 40,
   "metadata": {},
   "outputs": [
    {
     "name": "stdout",
     "output_type": "stream",
     "text": [
      "HELLO: 0 hello 123 a\n"
     ]
    }
   ],
   "source": [
    "\n",
    "def multiple_replace(text:str, str_subs:dict, regex=True):\n",
    "    if not regex:\n",
    "        str_subs = {re.escape(k):v for k,v in str_subs.items()}\n",
    "\n",
    "    pattern = re.compile(\"|\".join(str_subs.keys()))\n",
    "\n",
    "    def _multiple_replace(match):\n",
    "        for k,v in str_subs.items():\n",
    "            if re.match(k, match.group(0)):\n",
    "                return v\n",
    "        raise ValueError(f'No match for: {p}')\n",
    "\n",
    "    return pattern.sub(_multiple_replace, text)\n",
    "\n",
    "\n",
    "print(multiple_replace('HELLO: 0 hello 123 a', {r'[0-9]+': 'NUMBERS', r'[a-z]+': 'letters', r'[A-Z]+': 'LETTERS'}, regex=False))"
   ]
  },
  {
   "cell_type": "code",
   "execution_count": 47,
   "metadata": {},
   "outputs": [],
   "source": [
    "PHOTO_REFERENCE_API = 'https://maps.googleapis.com/maps/api/place/photo'\n",
    "\n",
    "photo_params = {\n",
    "    'key': API_KEY,\n",
    "    'photo_reference': \"Aap_uEBUP62-NzgS_-V5AHu081xeAw8p2m85y9g19a4xm7w3mHTsqQo6NYAH-WCGEZSr2og6m96b573b9AEIu7FWsklHKBpCkURkdpqzU-ttl7UAJ2v7ngCCzIy0N_lnVYpmYxwOvSw_S5BNxvEBXBYMm32Dby67x9-saDhzi9F3mqeTbA38\"\n",
    "}\n",
    "\n",
    "photo_resp = requests.get(PHOTO_REFERENCE_API, params=photo_params)\n",
    "\n",
    "\n",
    "with open('photo.png', 'wb+') as exp_fd:\n",
    "    exp_fd.write(photo_resp.text.encode('utf-8'))"
   ]
  },
  {
   "cell_type": "code",
   "execution_count": null,
   "metadata": {},
   "outputs": [],
   "source": []
  }
 ],
 "metadata": {
  "interpreter": {
   "hash": "65ec4744806de1390d6de3f6640834336399387f3eec292c09bce9e300c1896d"
  },
  "kernelspec": {
   "display_name": "Python 3.9.7 64-bit ('anaconda3')",
   "language": "python",
   "name": "python3"
  },
  "language_info": {
   "codemirror_mode": {
    "name": "ipython",
    "version": 3
   },
   "file_extension": ".py",
   "mimetype": "text/x-python",
   "name": "python",
   "nbconvert_exporter": "python",
   "pygments_lexer": "ipython3",
   "version": "3.9.7"
  },
  "orig_nbformat": 4
 },
 "nbformat": 4,
 "nbformat_minor": 2
}
